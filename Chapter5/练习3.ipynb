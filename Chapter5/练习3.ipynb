{
 "cells": [
  {
   "cell_type": "code",
   "execution_count": 8,
   "metadata": {},
   "outputs": [
    {
     "name": "stdout",
     "output_type": "stream",
     "text": [
      "              precision    recall  f1-score   support\n",
      "\n",
      "          11       0.30      0.43      0.35         7\n",
      "          12       0.44      0.38      0.41        21\n",
      "          13       0.55      0.64      0.59        25\n",
      "          14       0.33      0.20      0.25        10\n",
      "\n",
      "    accuracy                           0.46        63\n",
      "   macro avg       0.41      0.41      0.40        63\n",
      "weighted avg       0.45      0.46      0.45        63\n",
      "\n",
      "Confusion matrix:\n",
      "[[ 3  4  0  0]\n",
      " [ 5  8  7  1]\n",
      " [ 2  4 16  3]\n",
      " [ 0  2  6  2]]\n"
     ]
    }
   ],
   "source": [
    "import pandas as pd\n",
    "data=pd.read_csv('c:/data/wine.data',header=None)\n",
    "\n",
    "#取data前一列作为分类值\n",
    "x = data.loc[ :,2:14 ].values.astype(float)\n",
    "y = data.loc[ :,1].values.astype(int)\n",
    "\n",
    "#将自变量数组和目标变量数组划分为训练集（train）和测试集（test）\n",
    "from sklearn import model_selection\n",
    "x_train,x_test,y_train,y_test=model_selection.train_test_split(x,y,test_size=0.35,random_state=1)\n",
    "\n",
    "#训练模型，预测样本分类\n",
    "from sklearn import tree\n",
    "clf = tree.DecisionTreeClassifier()\n",
    "clf = clf.fit(x_train, y_train)\n",
    "clf.score(x_test,y_test)\n",
    "\n",
    "#对分类器性能进行评估\n",
    "predicted_y_test=clf.predict(x_test)\n",
    "from sklearn import metrics\n",
    "print(metrics.classification_report(y_test,predicted_y_test))\n",
    "print('Confusion matrix:')#混淆矩阵\n",
    "print(metrics.confusion_matrix(y_test,predicted_y_test))\n",
    "\n",
    "#模型的性能较差，准确率较低"
   ]
  },
  {
   "cell_type": "code",
   "execution_count": null,
   "metadata": {},
   "outputs": [],
   "source": []
  }
 ],
 "metadata": {
  "kernelspec": {
   "display_name": "Python 3",
   "language": "python",
   "name": "python3"
  },
  "language_info": {
   "codemirror_mode": {
    "name": "ipython",
    "version": 3
   },
   "file_extension": ".py",
   "mimetype": "text/x-python",
   "name": "python",
   "nbconvert_exporter": "python",
   "pygments_lexer": "ipython3",
   "version": "3.8.5"
  }
 },
 "nbformat": 4,
 "nbformat_minor": 4
}
