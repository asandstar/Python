{
 "cells": [
  {
   "cell_type": "code",
   "execution_count": 1,
   "metadata": {
    "collapsed": false
   },
   "outputs": [
    {
     "name": "stdout",
     "output_type": "stream",
     "text": [
      "     1         2     3    4\n",
      "0                          \n",
      "1  Yes    Single  12.5   No\n",
      "2   No   Married  10.0   No\n",
      "3   No    Single   7.0   No\n",
      "4  Yes   Married  12.0   No\n",
      "5   No  Divorced   9.5  Yes\n",
      "   1  2     3  4\n",
      "0               \n",
      "1  1  1  12.5  0\n",
      "2  0  2  10.0  0\n",
      "3  0  1   7.0  0\n",
      "4  1  2  12.0  0\n",
      "5  0  3   9.5  1\n",
      "             precision    recall  f1-score   support\n",
      "\n",
      "          0       1.00      1.00      1.00        10\n",
      "          1       1.00      1.00      1.00         5\n",
      "\n",
      "avg / total       1.00      1.00      1.00        15\n",
      "\n",
      "Confusion matrix:\n",
      "[[10  0]\n",
      " [ 0  5]]\n"
     ]
    }
   ],
   "source": [
    "import pandas as pd\n",
    "from sklearn import metrics\n",
    "filename='bankdebt.csv'\n",
    "data=pd.read_csv(filename,nrows=5,index_col=0,header=None)\n",
    "print(data)\n",
    "data=pd.read_csv(filename,index_col=0,header=None)\n",
    "data.loc[data[1]=='Yes',1]=1\n",
    "data.loc[data[1]=='No',1]=0\n",
    "data.loc[data[4]=='Yes',4]=1\n",
    "data.loc[data[4]=='No',4]=0\n",
    "data.loc[data[2]=='Single',2]=1\n",
    "data.loc[data[2]=='Married',2]=2\n",
    "data.loc[data[2]=='Divorced',2]=3\n",
    "print(data.loc[1:5,:])\n",
    "x=data.loc[:,1:3].values.astype(float)\n",
    "y=data.loc[:,4].values.astype(int)\n",
    "\n",
    "from sklearn import model_selection\n",
    "x_train,x_test,y_train,y_test=model_selection.train_test_split(x,y,test_size=0.35,random_state=1)\n",
    "\n",
    "from sklearn import tree\n",
    "clf=tree.DecisionTreeClassifier()\n",
    "clf=clf.fit(x,y)\n",
    "clf.score(x,y)\n",
    "predicted_y=clf.predict(x)\n",
    "from sklearn import metrics\n",
    "print(metrics.classification_report(y,predicted_y))\n",
    "print('Confusion matrix:')\n",
    "print(metrics.confusion_matrix(y,predicted_y))\n",
    "\n"
   ]
  },
  {
   "cell_type": "code",
   "execution_count": null,
   "metadata": {
    "collapsed": true
   },
   "outputs": [],
   "source": []
  }
 ],
 "metadata": {
  "kernelspec": {
   "display_name": "Python 3",
   "language": "python",
   "name": "python3"
  },
  "language_info": {
   "codemirror_mode": {
    "name": "ipython",
    "version": 3
   },
   "file_extension": ".py",
   "mimetype": "text/x-python",
   "name": "python",
   "nbconvert_exporter": "python",
   "pygments_lexer": "ipython3",
   "version": "3.6.0"
  }
 },
 "nbformat": 4,
 "nbformat_minor": 2
}
