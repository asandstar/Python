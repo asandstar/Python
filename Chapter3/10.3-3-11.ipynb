{
 "cells": [
  {
   "cell_type": "code",
   "execution_count": 11,
   "metadata": {},
   "outputs": [],
   "source": [
    "import pandas as pd\n",
    "import numpy as np\n",
    "from pandas import DataFrame\n",
    "\n"
   ]
  },
  {
   "cell_type": "code",
   "execution_count": 12,
   "metadata": {},
   "outputs": [
    {
     "name": "stdout",
     "output_type": "stream",
     "text": [
      "          学号   姓名    专业\n",
      "0  202003101   赵成  软件工程\n",
      "1  202005114  李斌丽  机械制造\n",
      "2  202009111  孙武一  工业设计\n",
      "0  202003103  孙武一  软件工程\n",
      "1  202005116  袁一凡  工业设计\n"
     ]
    }
   ],
   "source": [
    "colName=['学号','姓名','专业']\n",
    "data1=[['202003101','赵成','软件工程'],['202005114','李斌丽','机械制造'],['202009111','孙武一','工业设计']]\n",
    "stu1=DataFrame(data1,columns=colName)\n",
    "data2=[['202003103','孙武一','软件工程'],['202005116','袁一凡','工业设计']]\n",
    "stu2=DataFrame(data2,columns=colName)\n",
    "newstu=pd.concat([stu1,stu2],axis=0)\n",
    "print(newstu)"
   ]
  },
  {
   "cell_type": "code",
   "execution_count": null,
   "metadata": {
    "collapsed": true
   },
   "outputs": [],
   "source": []
  }
 ],
 "metadata": {
  "kernelspec": {
   "display_name": "Python 3",
   "language": "python",
   "name": "python3"
  },
  "language_info": {
   "codemirror_mode": {
    "name": "ipython",
    "version": 3
   },
   "file_extension": ".py",
   "mimetype": "text/x-python",
   "name": "python",
   "nbconvert_exporter": "python",
   "pygments_lexer": "ipython3",
   "version": "3.8.5"
  }
 },
 "nbformat": 4,
 "nbformat_minor": 2
}
