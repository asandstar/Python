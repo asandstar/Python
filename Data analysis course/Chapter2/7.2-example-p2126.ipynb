{
 "cells": [
  {
   "cell_type": "code",
   "execution_count": 56,
   "metadata": {},
   "outputs": [],
   "source": [
    "import numpy as np\n",
    "names=np.array(['王微','肖良英','方绮雯','刘旭阳','钱易铭'])\n",
    "subjects=np.array(['Math','English','Python','Chinese','Art','Database','Physics'])"
   ]
  },
  {
   "cell_type": "code",
   "execution_count": 57,
   "metadata": {},
   "outputs": [],
   "source": [
    "scores=np.array([[70,85,77,90,82,84,89],\n",
    "                 [60,64,80,75,80,92,90],\n",
    "                 [90,93,88,87,86,90,91],\n",
    "                 [80,82,91,88,83,86,80],\n",
    "                 [88,72,78,90,91,73,80]])"
   ]
  },
  {
   "cell_type": "code",
   "execution_count": 58,
   "metadata": {},
   "outputs": [
    {
     "data": {
      "text/plain": [
       "array([[75, 90, 82, 95, 87, 89, 94],\n",
       "       [65, 69, 85, 80, 85, 97, 95],\n",
       "       [95, 98, 93, 92, 91, 95, 96],\n",
       "       [85, 87, 96, 93, 88, 91, 85],\n",
       "       [93, 77, 83, 95, 96, 78, 85]])"
      ]
     },
     "execution_count": 58,
     "metadata": {},
     "output_type": "execute_result"
    }
   ],
   "source": [
    "scores+5"
   ]
  },
  {
   "cell_type": "code",
   "execution_count": 59,
   "metadata": {},
   "outputs": [
    {
     "name": "stdout",
     "output_type": "stream",
     "text": [
      "[[5. 5. 5. 5. 5. 5. 5.]\n",
      " [5. 5. 5. 5. 5. 5. 5.]\n",
      " [5. 5. 5. 5. 5. 5. 5.]\n",
      " [5. 5. 5. 5. 5. 5. 5.]\n",
      " [5. 5. 5. 5. 5. 5. 5.]]\n"
     ]
    }
   ],
   "source": [
    "a=np.ones((5,7))*5\n",
    "print(a)"
   ]
  },
  {
   "cell_type": "code",
   "execution_count": 60,
   "metadata": {},
   "outputs": [
    {
     "data": {
      "text/plain": [
       "array([[75., 90., 82., 95., 87., 89., 94.],\n",
       "       [65., 69., 85., 80., 85., 97., 95.],\n",
       "       [95., 98., 93., 92., 91., 95., 96.],\n",
       "       [85., 87., 96., 93., 88., 91., 85.],\n",
       "       [93., 77., 83., 95., 96., 78., 85.]])"
      ]
     },
     "execution_count": 60,
     "metadata": {},
     "output_type": "execute_result"
    }
   ],
   "source": [
    "scores+a"
   ]
  },
  {
   "cell_type": "code",
   "execution_count": 61,
   "metadata": {},
   "outputs": [
    {
     "data": {
      "text/plain": [
       "array([[73, 89, 82, 93, 88, 91, 91],\n",
       "       [63, 68, 85, 78, 86, 99, 92],\n",
       "       [93, 97, 93, 90, 92, 97, 93],\n",
       "       [83, 86, 96, 91, 89, 93, 82],\n",
       "       [91, 76, 83, 93, 97, 80, 82]])"
      ]
     },
     "execution_count": 61,
     "metadata": {},
     "output_type": "execute_result"
    }
   ],
   "source": [
    "bonus=np.array([3,4,5,3,6,7,2])\n",
    "scores+bonus"
   ]
  },
  {
   "cell_type": "code",
   "execution_count": 62,
   "metadata": {},
   "outputs": [
    {
     "data": {
      "text/plain": [
       "array([64])"
      ]
     },
     "execution_count": 62,
     "metadata": {},
     "output_type": "execute_result"
    }
   ],
   "source": [
    "scores[names=='肖良英',subjects=='English']"
   ]
  },
  {
   "cell_type": "code",
   "execution_count": 63,
   "metadata": {},
   "outputs": [
    {
     "data": {
      "text/plain": [
       "array([69])"
      ]
     },
     "execution_count": 63,
     "metadata": {},
     "output_type": "execute_result"
    }
   ],
   "source": [
    "scores[names=='肖良英',subjects=='English']+5"
   ]
  },
  {
   "cell_type": "code",
   "execution_count": 64,
   "metadata": {},
   "outputs": [
    {
     "data": {
      "text/plain": [
       "array([[7., 8., 7., 9., 8., 8., 8.],\n",
       "       [6., 6., 8., 7., 8., 9., 9.],\n",
       "       [9., 9., 8., 8., 8., 9., 9.],\n",
       "       [8., 8., 9., 8., 8., 8., 8.],\n",
       "       [8., 7., 7., 9., 9., 7., 8.]])"
      ]
     },
     "execution_count": 64,
     "metadata": {},
     "output_type": "execute_result"
    }
   ],
   "source": [
    "np.floor(scores/10)"
   ]
  },
  {
   "cell_type": "code",
   "execution_count": 65,
   "metadata": {},
   "outputs": [
    {
     "data": {
      "text/plain": [
       "array([[67, 82, 74, 87, 79, 81, 86],\n",
       "       [57, 61, 77, 72, 77, 89, 87],\n",
       "       [87, 90, 85, 84, 83, 87, 88],\n",
       "       [77, 79, 88, 85, 80, 83, 77],\n",
       "       [85, 69, 75, 87, 88, 70, 77]])"
      ]
     },
     "execution_count": 65,
     "metadata": {},
     "output_type": "execute_result"
    }
   ],
   "source": [
    "np.subtract(scores,3)"
   ]
  },
  {
   "cell_type": "code",
   "execution_count": 66,
   "metadata": {},
   "outputs": [
    {
     "data": {
      "text/plain": [
       "array([388, 396, 414, 430, 422, 425, 430])"
      ]
     },
     "execution_count": 66,
     "metadata": {},
     "output_type": "execute_result"
    }
   ],
   "source": [
    "scores.sum(axis=0)"
   ]
  },
  {
   "cell_type": "code",
   "execution_count": 67,
   "metadata": {},
   "outputs": [
    {
     "data": {
      "text/plain": [
       "82.42857142857143"
      ]
     },
     "execution_count": 67,
     "metadata": {},
     "output_type": "execute_result"
    }
   ],
   "source": [
    "scores[names=='王微'].mean()"
   ]
  },
  {
   "cell_type": "code",
   "execution_count": 68,
   "metadata": {},
   "outputs": [
    {
     "data": {
      "text/plain": [
       "'方绮雯'"
      ]
     },
     "execution_count": 68,
     "metadata": {},
     "output_type": "execute_result"
    }
   ],
   "source": [
    "names[scores[:,subjects=='English'].argmax()]"
   ]
  },
  {
   "cell_type": "code",
   "execution_count": 69,
   "metadata": {},
   "outputs": [
    {
     "data": {
      "text/plain": [
       "array([3, 0, 5, 2, 2, 4, 2, 1, 1, 2])"
      ]
     },
     "execution_count": 69,
     "metadata": {},
     "output_type": "execute_result"
    }
   ],
   "source": [
    "np.random.randint(0,6,10)"
   ]
  },
  {
   "cell_type": "code",
   "execution_count": 70,
   "metadata": {},
   "outputs": [
    {
     "data": {
      "text/plain": [
       "array([[1, 0, 1, 0, 0, 1],\n",
       "       [1, 1, 0, 1, 1, 0],\n",
       "       [1, 0, 0, 0, 0, 1],\n",
       "       [0, 1, 0, 0, 0, 1],\n",
       "       [0, 1, 1, 0, 0, 0]])"
      ]
     },
     "execution_count": 70,
     "metadata": {},
     "output_type": "execute_result"
    }
   ],
   "source": [
    "np.random.randint(0,2,size=(5,6))"
   ]
  },
  {
   "cell_type": "code",
   "execution_count": 71,
   "metadata": {},
   "outputs": [
    {
     "data": {
      "text/plain": [
       "array([[ 0.29253536,  0.60582487, -0.73219688, -1.67641957, -1.54004788],\n",
       "       [ 1.0241463 ,  0.19370467,  3.31525645,  1.29382428, -0.53954864],\n",
       "       [-0.71616284,  1.31170925,  0.82208053,  0.84847714, -0.65597277],\n",
       "       [ 1.00228412,  1.1705506 , -1.23457733,  1.4593541 , -0.64012008]])"
      ]
     },
     "execution_count": 71,
     "metadata": {},
     "output_type": "execute_result"
    }
   ],
   "source": [
    "np.random.normal(0,1,size=(4,5))"
   ]
  }
 ],
 "metadata": {
  "kernelspec": {
   "display_name": "Python 3",
   "language": "python",
   "name": "python3"
  },
  "language_info": {
   "codemirror_mode": {
    "name": "ipython",
    "version": 3
   },
   "file_extension": ".py",
   "mimetype": "text/x-python",
   "name": "python",
   "nbconvert_exporter": "python",
   "pygments_lexer": "ipython3",
   "version": "3.8.5"
  }
 },
 "nbformat": 4,
 "nbformat_minor": 4
}
