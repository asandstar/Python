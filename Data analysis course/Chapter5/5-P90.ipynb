{
 "cells": [
  {
   "cell_type": "code",
   "execution_count": 6,
   "metadata": {},
   "outputs": [
    {
     "name": "stdout",
     "output_type": "stream",
     "text": [
      "2.9324713466040837 [0.04608839 0.18047646 0.00411699]\n",
      "The man squar error of train and test are:3.06,2.32\n",
      "The decision coeficient is:0.91\n"
     ]
    }
   ],
   "source": [
    "#1、数据读取\n",
    "import pandas as pd\n",
    "filename='c:/data/advertising.csv'\n",
    "data=pd.read_csv(filename,index_col=0)\n",
    "x=data.iloc[:,0:3].values.astype(float)\n",
    "y=data.iloc[:,3].values.astype(float)\n",
    "\n",
    "#2、将自变量数组和目标变量数组划分为训练集（train）和测试集（test）\n",
    "from sklearn import model_selection\n",
    "x_train,x_test,y_train,y_test=model_selection.train_test_split(x,y,test_size=0.35,random_state=1)\n",
    "\n",
    "#3、在训练集上学习回归模型linregTr\n",
    "from sklearn.linear_model import LinearRegression\n",
    "linregTr=LinearRegression()\n",
    "linregTr.fit(x_train,y_train)\n",
    "print(linregTr.intercept_,linregTr.coef_)\n",
    "\n",
    "#4、在测试集上应用模型，计算预测结果，RMSE和决定系数R^2\n",
    "from sklearn import metrics\n",
    "y_train_pred=linregTr.predict(x_train)\n",
    "y_test_pred=linregTr.predict(x_test)\n",
    "train_err=metrics.mean_squared_error(y_train,y_train_pred)\n",
    "test_err=metrics.mean_squared_error(y_test,y_test_pred)\n",
    "print('The man squar error of train and test are:{:.2f},{:.2f}'.format(train_err,test_err))\n",
    "\n",
    "#5、在测试集上计算决定系数，评估性能\n",
    "predict_score=linregTr.score(x_test,y_test)\n",
    "print('The decision coeficient is:{:.2f}'.format(predict_score))"
   ]
  }
 ],
 "metadata": {
  "kernelspec": {
   "display_name": "Python 3",
   "language": "python",
   "name": "python3"
  },
  "language_info": {
   "codemirror_mode": {
    "name": "ipython",
    "version": 3
   },
   "file_extension": ".py",
   "mimetype": "text/x-python",
   "name": "python",
   "nbconvert_exporter": "python",
   "pygments_lexer": "ipython3",
   "version": "3.8.5"
  }
 },
 "nbformat": 4,
 "nbformat_minor": 4
}
