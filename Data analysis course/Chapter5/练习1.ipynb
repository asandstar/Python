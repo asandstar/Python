{
 "cells": [
  {
   "cell_type": "code",
   "execution_count": 12,
   "metadata": {
    "collapsed": false
   },
   "outputs": [
    {
     "name": "stdout",
     "output_type": "stream",
     "text": [
      "[[ 230.1   37.8   69.2   22.1]\n",
      " [  44.5   39.3   45.1   10.4]\n",
      " [  17.2   45.9   69.3    9.3]\n",
      " [ 151.5   41.3   58.5   18.5]\n",
      " [ 180.8   10.8   58.4   12.9]]\n",
      "2.9324713466 [ 0.04608839  0.18047646  0.00411699]\n",
      "The man squar error of train and test are:3.06,2.32\n",
      "The decision coeficient is:0.91\n"
     ]
    }
   ],
   "source": [
    "import pandas as pd\n",
    "filename='advertising.csv'\n",
    "data=pd.read_csv(filename,index_col=0)\n",
    "print(data.iloc[0:5,:].values)\n",
    "x=data.iloc[:,0:3].values.astype(float)\n",
    "y=data.iloc[:,3].values.astype(float)\n",
    "\n",
    "from sklearn import model_selection\n",
    "x_train,x_test,y_train,y_test=model_selection.train_test_split(x,y,test_size=0.35,random_state=1)\n",
    "\n",
    "linregTr=LinearRegression()\n",
    "linregTr.fit(x_train,y_train)\n",
    "print(linregTr.intercept_,linregTr.coef_)\n",
    "\n",
    "from sklearn import metrics\n",
    "y_train_pred=linregTr.predict(x_train)\n",
    "y_test_pred=linregTr.predict(x_test)\n",
    "\n",
    "train_err=metrics.mean_squared_error(y_train,y_train_pred)\n",
    "test_err=metrics.mean_squared_error(y_test,y_test_pred)\n",
    "print('The man squar error of train and test are:{:.2f},{:.2f}'.format(train_err,test_err))\n",
    "predict_score=linregTr.score(x_test,y_test)\n",
    "print('The decision coeficient is:{:.2f}'.format(predict_score))\n",
    "#决定系数达到0.91，说明回归模型的拟合效果较好\n"
   ]
  },
  {
   "cell_type": "code",
   "execution_count": null,
   "metadata": {
    "collapsed": true
   },
   "outputs": [],
   "source": []
  },
  {
   "cell_type": "code",
   "execution_count": null,
   "metadata": {
    "collapsed": true
   },
   "outputs": [],
   "source": []
  }
 ],
 "metadata": {
  "kernelspec": {
   "display_name": "Python 3",
   "language": "python",
   "name": "python3"
  },
  "language_info": {
   "codemirror_mode": {
    "name": "ipython",
    "version": 3
   },
   "file_extension": ".py",
   "mimetype": "text/x-python",
   "name": "python",
   "nbconvert_exporter": "python",
   "pygments_lexer": "ipython3",
   "version": "3.6.0"
  }
 },
 "nbformat": 4,
 "nbformat_minor": 2
}
